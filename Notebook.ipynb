{
 "cells": [
  {
   "attachments": {},
   "cell_type": "markdown",
   "metadata": {},
   "source": [
    "# Code:"
   ]
  },
  {
   "attachments": {},
   "cell_type": "markdown",
   "metadata": {},
   "source": [
    "### Import packages, modules and create the folders"
   ]
  },
  {
   "attachments": {},
   "cell_type": "markdown",
   "metadata": {},
   "source": [
    "## Modules"
   ]
  },
  {
   "cell_type": "code",
   "execution_count": 1,
   "metadata": {},
   "outputs": [
    {
     "name": "stdout",
     "output_type": "stream",
     "text": [
      "Successfully imported package pandas.\n",
      "Successfully imported package numpy.\n",
      "Successfully imported package os.\n",
      "Successfully imported package sys.\n",
      "Successfully imported package matplotlib.pyplot.\n",
      "Successfully imported package seaborn.\n",
      "Successfully imported package statsmodels.\n",
      "Successfully imported package scipy.\n",
      "Successfully imported package pypfopt.\n",
      "Successfully imported package functools.\n",
      "Successfully imported package streamlit_folium.\n",
      "Successfully imported pandas as pd.\n",
      "Successfully imported numpy as np.\n",
      "Successfully imported os as os.\n",
      "Successfully imported sys as sys.\n",
      "Successfully imported matplotlib.pyplot as plt.\n",
      "Successfully imported seaborn as sns.\n",
      "Successfully imported statsmodels as sm.\n",
      "Successfully imported scipy.linalg as ln.\n",
      "Successfully imported functools as functools.\n"
     ]
    }
   ],
   "source": [
    "from Module import *"
   ]
  },
  {
   "attachments": {},
   "cell_type": "markdown",
   "metadata": {},
   "source": [
    "## Folders"
   ]
  },
  {
   "cell_type": "markdown",
   "metadata": {},
   "source": []
  },
  {
   "attachments": {},
   "cell_type": "markdown",
   "metadata": {},
   "source": [
    "## Paths"
   ]
  },
  {
   "cell_type": "code",
   "execution_count": 2,
   "metadata": {},
   "outputs": [],
   "source": [
    "raw_path = f'{os.getcwd()}//Raw//'"
   ]
  },
  {
   "cell_type": "code",
   "execution_count": 5,
   "metadata": {},
   "outputs": [
    {
     "data": {
      "text/plain": [
       "['Eco_price_21.xlsx',\n",
       " 'Eco_price_22.xlsx',\n",
       " 'Eco_price_41.xlsx',\n",
       " 'Eco_ret_21.xlsx',\n",
       " 'Eco_ret_22.xlsx',\n",
       " 'Eco_ret_41.xlsx']"
      ]
     },
     "execution_count": 5,
     "metadata": {},
     "output_type": "execute_result"
    }
   ],
   "source": [
    "os.listdir(raw_path)"
   ]
  }
 ],
 "metadata": {
  "kernelspec": {
   "display_name": "Python 3",
   "language": "python",
   "name": "python3"
  },
  "language_info": {
   "codemirror_mode": {
    "name": "ipython",
    "version": 3
   },
   "file_extension": ".py",
   "mimetype": "text/x-python",
   "name": "python",
   "nbconvert_exporter": "python",
   "pygments_lexer": "ipython3",
   "version": "3.11.3"
  },
  "orig_nbformat": 4
 },
 "nbformat": 4,
 "nbformat_minor": 2
}
