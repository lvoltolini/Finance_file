{
 "cells": [
  {
   "attachments": {},
   "cell_type": "markdown",
   "metadata": {},
   "source": [
    "# Code:"
   ]
  },
  {
   "attachments": {},
   "cell_type": "markdown",
   "metadata": {},
   "source": [
    "### Import packages, modules and create the folders"
   ]
  },
  {
   "attachments": {},
   "cell_type": "markdown",
   "metadata": {},
   "source": [
    "## Modules"
   ]
  },
  {
   "cell_type": "code",
   "execution_count": 22,
   "metadata": {},
   "outputs": [
    {
     "name": "stdout",
     "output_type": "stream",
     "text": [
      "[*********************100%***********************]  1 of 1 completed\n"
     ]
    }
   ],
   "source": [
    "from importlib import reload\n",
    "\n",
    "# import Module\n",
    "# from Module import os, sys\n",
    "# from Module import pd, np, plt, sns, sm, ln, dt\n",
    "# from Module import yf, investpy, sgs\n",
    "# reload(Met)\n",
    "import Methods\n",
    "reload(Methods)\n",
    "# Packages:\n",
    "from Module import os, sys\n",
    "from Module import pd, np, plt, sns, sm, ln, dt\n",
    "from Module import yf, investpy, sgs\n",
    "\n",
    "# Variabili:\n",
    "from Methods import p21, p22, p41, r21, r22, r41\n",
    "from Methods import nefin, betas, reg\n",
    "from Methods import select_dates\n"
   ]
  },
  {
   "attachments": {},
   "cell_type": "markdown",
   "metadata": {},
   "source": [
    "## Folders"
   ]
  },
  {
   "cell_type": "code",
   "execution_count": 2,
   "metadata": {},
   "outputs": [],
   "source": [
    "folders = ['//Regression//',\n",
    " '//Regression//Daily//',\n",
    " '//Regression//Month//',\n",
    " '//Regression//Quad//',\n",
    " '//Regression//Year//',\n",
    " '//Regression//Daily//ret//',\n",
    " '//Regression//Daily//exp//',\n",
    " '//Regression//Daily//exp//Stocks//',\n",
    " '//Regression//Daily//fac//',\n",
    " '//Regression//Daily//fac//Stocks//',\n",
    " '//Regression//Month//ret//',\n",
    " '//Regression//Month//exp//',\n",
    " '//Regression//Month//exp//Stocks//',\n",
    " '//Regression//Month//fac//',\n",
    " '//Regression//Month//fac//Stocks//',\n",
    " '//Regression//Quad//ret//',\n",
    " '//Regression//Quad//exp//',\n",
    " '//Regression//Quad//exp//Stocks//',\n",
    " '//Regression//Quad//fac//',\n",
    " '//Regression//Quad//fac//Stocks//',\n",
    " '//Regression//Year//ret//',\n",
    " '//Regression//Year//exp//',\n",
    " '//Regression//Year//exp//Stocks//',\n",
    " '//Regression//Year//fac//',\n",
    " '//Regression//Year//fac//Stocks//']"
   ]
  },
  {
   "attachments": {},
   "cell_type": "markdown",
   "metadata": {},
   "source": [
    "## Paths"
   ]
  },
  {
   "attachments": {},
   "cell_type": "markdown",
   "metadata": {},
   "source": [
    "### Loading the files"
   ]
  },
  {
   "attachments": {},
   "cell_type": "markdown",
   "metadata": {},
   "source": [
    "Economatica"
   ]
  },
  {
   "cell_type": "code",
   "execution_count": 23,
   "metadata": {},
   "outputs": [],
   "source": [
    "raw_path = f'{os.getcwd()}//Raw//'\n",
    "raw_path_files = [raw_path + i for i in os.listdir(raw_path) if 'Eco_' in i]"
   ]
  },
  {
   "attachments": {},
   "cell_type": "markdown",
   "metadata": {},
   "source": [
    "Nefin"
   ]
  },
  {
   "cell_type": "code",
   "execution_count": 24,
   "metadata": {},
   "outputs": [],
   "source": [
    "url = [\n",
    "    'http://nefin.com.br/resources/risk_factors/Market_Factor.xls',\n",
    "    'http://nefin.com.br/resources/risk_factors/SMB_Factor.xls',\n",
    "    'http://nefin.com.br/resources/risk_factors/HML_Factor.xls',\n",
    "    'http://nefin.com.br/resources/risk_factors/WML_Factor.xls',\n",
    "    'http://nefin.com.br/resources/risk_factors/IML_Factor.xls',\n",
    "    'http://nefin.com.br/resources/risk_factors/Risk_Free.xls'\n",
    "]\n",
    "\n",
    "# Usare pd.read_excel(url[i], header = [3])"
   ]
  },
  {
   "attachments": {},
   "cell_type": "markdown",
   "metadata": {},
   "source": [
    "Dow Jones and Yahoo ibov:"
   ]
  },
  {
   "cell_type": "code",
   "execution_count": 25,
   "metadata": {},
   "outputs": [],
   "source": [
    "\n",
    "dj_path = 'Raw//BR_ESG.xls'\n",
    "# Usare pd.read_excel(dj_path, header)\n",
    "ibov_ticker = '^BVSP'"
   ]
  },
  {
   "attachments": {},
   "cell_type": "markdown",
   "metadata": {},
   "source": [
    "# Resampling"
   ]
  },
  {
   "cell_type": "code",
   "execution_count": null,
   "metadata": {},
   "outputs": [],
   "source": []
  },
  {
   "cell_type": "markdown",
   "metadata": {},
   "source": []
  }
 ],
 "metadata": {
  "kernelspec": {
   "display_name": "Python 3",
   "language": "python",
   "name": "python3"
  },
  "language_info": {
   "codemirror_mode": {
    "name": "ipython",
    "version": 3
   },
   "file_extension": ".py",
   "mimetype": "text/x-python",
   "name": "python",
   "nbconvert_exporter": "python",
   "pygments_lexer": "ipython3",
   "version": "3.11.3"
  },
  "orig_nbformat": 4
 },
 "nbformat": 4,
 "nbformat_minor": 2
}
